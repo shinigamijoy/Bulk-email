{
 "cells": [
  {
   "cell_type": "code",
   "execution_count": 2,
   "id": "b2776ed6",
   "metadata": {},
   "outputs": [],
   "source": [
    "import pandas as pd"
   ]
  },
  {
   "cell_type": "code",
   "execution_count": 23,
   "id": "42b0e19f",
   "metadata": {},
   "outputs": [],
   "source": [
    "#### import pandas as pd\n",
    "import smtplib\n",
    "from os.path import basename\n",
    "from email.mime.text import MIMEText\n",
    "from email.mime.multipart import MIMEMultipart\n",
    "from email.mime.application import MIMEApplication\n",
    "\n",
    "d = pd.read_csv('conta.csv')\n",
    "x = d['email']\n",
    "names = d['name']\n",
    "grades = d['grade']\n",
    "email2 = d['email2']\n",
    "for i,name,g,c in zip(x,names,grades,email2):\n",
    "    from_addr = 'yassin.hakki@gochat247.com'\n",
    "    to_addr = i +' , '+ c\n",
    "    cc = i +' , '+ c\n",
    "    subject = 'I just sent this attachment from Python!'\n",
    "    content = 'How neat is that?'\n",
    "   \n",
    "    msg = MIMEMultipart()\n",
    "    msg['From'] = from_addr\n",
    "    msg['To'] = to_addr \n",
    "    msg['Cc'] = cc\n",
    "    msg['Subject'] = subject\n",
    "    \n",
    "    body = MIMEText(content, 'plain')\n",
    "    msg.attach(body)\n",
    "    filename = g\n",
    "    with open(filename, 'r') as f:\n",
    "        part = MIMEApplication(f.read(), Name=basename(filename))\n",
    "        part['Content-Disposition'] = 'attachment; filename=\"{}\"'.format(basename(filename))\n",
    "    msg.attach(part)\n",
    "    server = smtplib.SMTP_SSL('smtp.zoho.com', 465)\n",
    "    server.login(from_addr, 'yassoice99')\n",
    "    server.send_message(msg, from_addr=from_addr, to_addrs=[to_addr])\n",
    "    print('Done')"
   ]
  },
  {
   "cell_type": "code",
   "execution_count": null,
   "id": "1f0e1192",
   "metadata": {},
   "outputs": [],
   "source": []
  }
 ],
 "metadata": {
  "kernelspec": {
   "display_name": "Python 3",
   "language": "python",
   "name": "python3"
  },
  "language_info": {
   "codemirror_mode": {
    "name": "ipython",
    "version": 3
   },
   "file_extension": ".py",
   "mimetype": "text/x-python",
   "name": "python",
   "nbconvert_exporter": "python",
   "pygments_lexer": "ipython3",
   "version": "3.8.8"
  }
 },
 "nbformat": 4,
 "nbformat_minor": 5
}
